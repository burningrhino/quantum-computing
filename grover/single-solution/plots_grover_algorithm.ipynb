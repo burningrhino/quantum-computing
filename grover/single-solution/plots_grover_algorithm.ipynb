{
 "cells": [
  {
   "cell_type": "markdown",
   "id": "42c873e1",
   "metadata": {},
   "source": [
    "# Plots of 2- to 5- Qubit Grover Search Code"
   ]
  },
  {
   "cell_type": "code",
   "execution_count": 1,
   "id": "36125334",
   "metadata": {},
   "outputs": [],
   "source": [
    "# Imports\n",
    "import matplotlib.pyplot as plt\n",
    "import numpy as np\n",
    "\n",
    "from qiskit import (QuantumCircuit, IBMQ, Aer, transpile, execute)"
   ]
  },
  {
   "cell_type": "markdown",
   "id": "2c9b8b48",
   "metadata": {},
   "source": [
    "## Circuits"
   ]
  },
  {
   "cell_type": "code",
   "execution_count": 2,
   "id": "7af837ca",
   "metadata": {},
   "outputs": [],
   "source": [
    "# Initialization Circuits\n",
    "qc_init_2 = QuantumCircuit(2)\n",
    "qc_init_3 = QuantumCircuit(3)\n",
    "qc_init_4 = QuantumCircuit(4)\n",
    "qc_init_5 = QuantumCircuit(5)\n",
    "\n",
    "# List of 2- to 5- qubit circuits\n",
    "init_list = [qc_init_2, qc_init_3, qc_init_4, qc_init_5]\n",
    "\n",
    "# Initial Hadamards\n",
    "for circuit in init_list:\n",
    "    circuit.h(range(circuit.num_qubits))"
   ]
  },
  {
   "cell_type": "code",
   "execution_count": 3,
   "id": "37e68006",
   "metadata": {},
   "outputs": [],
   "source": [
    "# Oracles for the experiments (taken from previous code)\n",
    "\n",
    "# 2 Qubits Oracle\n",
    "def oracle_two(circuit:QuantumCircuit):\n",
    "    #Apply Oracle to tag |01> state\n",
    "    circuit.x(1)\n",
    "    circuit.cz(0,1)\n",
    "    circuit.x(1)\n",
    "    return circuit\n",
    "\n",
    "# 3 Qubits Oracle\n",
    "def oracle_three(circuit:QuantumCircuit):\n",
    "    #Apply Oracle to tag |010> state\n",
    "    circuit.x([0,2])\n",
    "    circuit.h(2)\n",
    "    circuit.mcx([0,1],2)\n",
    "    circuit.h(2)\n",
    "    circuit.x([0,2])\n",
    "    return circuit\n",
    "\n",
    "# 4 Qubits Oracle\n",
    "def oracle_four(circuit:QuantumCircuit):\n",
    "    #Apply Oracle to tag |0010> state\n",
    "    circuit.x([0,2,3])\n",
    "    circuit.h(3)\n",
    "    circuit.mcx([0,1,2],3)\n",
    "    circuit.h(3)\n",
    "    circuit.x([0,2,3])\n",
    "    return circuit\n",
    "\n",
    "# 5 Qubits Oracle\n",
    "def oracle_five(circuit:QuantumCircuit):\n",
    "    #Apply Oracle to tag |11100> state\n",
    "    circuit.x([0,1])\n",
    "    circuit.h(4)\n",
    "    circuit.mcx([0,1,2,3],4)\n",
    "    circuit.h(4)\n",
    "    circuit.x([0,1])\n",
    "    return circuit"
   ]
  },
  {
   "cell_type": "code",
   "execution_count": 4,
   "id": "09f21238",
   "metadata": {},
   "outputs": [],
   "source": [
    "#Diffuser for two-qubit system\n",
    "def diffuser_two(circuit):\n",
    "    circuit.h([0,1]) #First perform Hadamard on each qubit\n",
    "    circuit.x([0,1]) #Apply X Gates on each qubit\n",
    "    circuit.cz(0,1)  #Apply CZ Gate\n",
    "    circuit.x([0,1]) #Apply X Gates\n",
    "    circuit.h([0,1]) #Apply Hadamard on each qubit\n",
    "\n",
    "    return circuit\n",
    "\n",
    "#Diffuser for three-qubit system\n",
    "def diffuser_three(circuit):\n",
    "    circuit.h([0,1,2]) #First perform Hadamard on each qubit\n",
    "    circuit.x([0,1,2]) #Apply X Gates on each qubit\n",
    "    \n",
    "    circuit.h(2) #We apply the CZ gate by remembering that HXH = Z\n",
    "    circuit.mcx([0,1],2)\n",
    "    circuit.h(2)\n",
    "    \n",
    "    circuit.x([0,1,2]) #Apply X Gates\n",
    "    circuit.h([0,1,2]) #Apply Hadamard on each qubit.\n",
    "\n",
    "    return circuit\n",
    "\n",
    "#Diffuser for four-qubit system\n",
    "def diffuser_four(circuit):\n",
    "    circuit.h([0,1,2,3]) #First perform Hadamard on each qubit\n",
    "    circuit.x([0,1,2,3]) #Apply X Gates on each qubit\n",
    "    \n",
    "    circuit.h(3) #We apply the CZ gate by remembering that HXH = Z\n",
    "    circuit.mcx([0,1,2],3)\n",
    "    circuit.h(3)\n",
    "    \n",
    "    circuit.x([0,1,2,3]) #Apply X Gates\n",
    "    circuit.h([0,1,2,3]) #Apply Hadamard on each qubit.\n",
    "\n",
    "    return circuit\n",
    "\n",
    "#Diffuser for five-qubit system\n",
    "def diffuser_five(circuit):\n",
    "    circuit.h([0,1,2,3,4]) #First perform Hadamard on each qubit\n",
    "    circuit.x([0,1,2,3,4]) #Apply X Gates on each qubit\n",
    "    \n",
    "    circuit.h(4) #We apply the CZ gate by remembering that HXH = Z\n",
    "    circuit.mcx([0,1,2,3],4)\n",
    "    circuit.h(4)\n",
    "    \n",
    "    circuit.x([0,1,2,3,4]) #Apply X Gates\n",
    "    circuit.h([0,1,2,3,4]) #Apply Hadamard on each qubit\n",
    "\n",
    "    return circuit"
   ]
  },
  {
   "cell_type": "code",
   "execution_count": 5,
   "id": "659d9dfd",
   "metadata": {},
   "outputs": [],
   "source": [
    "# Create circuits for each number of qubits, with varying iterations\n",
    "\n",
    "# Storage for the circuits by number of qubits\n",
    "grover2_dict = {}\n",
    "grover3_dict = {}\n",
    "grover4_dict = {}\n",
    "grover5_dict = {}\n",
    "\n",
    "# Create dictionary keys\n",
    "dict_keys = [str(iter+1) + \"_iters\" for iter in range(10)]\n",
    "\n",
    "# Set the dictionary keys\n",
    "for key in dict_keys:\n",
    "    grover2_dict[key] = None\n",
    "    grover3_dict[key] = None\n",
    "    grover4_dict[key] = None\n",
    "    grover5_dict[key] = None"
   ]
  },
  {
   "cell_type": "code",
   "execution_count": 6,
   "id": "f3cde0cb",
   "metadata": {},
   "outputs": [],
   "source": [
    "# Oracle Circuits\n",
    "orac_2q = oracle_two(QuantumCircuit(2))\n",
    "orac_3q = oracle_three(QuantumCircuit(3))\n",
    "orac_4q = oracle_four(QuantumCircuit(4))\n",
    "orac_5q = oracle_five(QuantumCircuit(5))\n",
    "\n",
    "# Grover Iteration Circuits (Oracle + Diffuser)\n",
    "base_grover2 = diffuser_two(orac_2q)\n",
    "base_grover3 = diffuser_three(orac_3q)\n",
    "base_grover4 = diffuser_four(orac_4q)\n",
    "base_grover5 = diffuser_five(orac_5q)\n",
    "\n",
    "# 2-Qubit Circuits from 1-10 grover iterations\n",
    "for iter in range(10):\n",
    "    tmp = qc_init_2.compose(base_grover2)\n",
    "\n",
    "    for times in range(iter):\n",
    "        tmp = tmp.compose(base_grover2)\n",
    "\n",
    "    grover2_dict[dict_keys[iter]] = tmp\n",
    "\n",
    "# 3-Qubit Circuits from 1-10 grover iterations\n",
    "for iter in range(10):\n",
    "    tmp = qc_init_3.compose(base_grover3)\n",
    "\n",
    "    for times in range(iter):\n",
    "        tmp = tmp.compose(base_grover3)\n",
    "\n",
    "    grover3_dict[dict_keys[iter]] = tmp\n",
    "\n",
    "# 4-Qubit Circuits from 1-10 grover iterations\n",
    "for iter in range(10):\n",
    "    tmp = qc_init_4.compose(base_grover4)\n",
    "\n",
    "    for times in range(iter):\n",
    "        tmp = tmp.compose(base_grover4)\n",
    "\n",
    "    grover4_dict[dict_keys[iter]] = tmp\n",
    "\n",
    "# 5-Qubit Circuits from 1-10 grover iterations\n",
    "for iter in range(10):\n",
    "    tmp = qc_init_5.compose(base_grover5)\n",
    "\n",
    "    for times in range(iter):\n",
    "        tmp = tmp.compose(base_grover5)\n",
    "\n",
    "    grover5_dict[dict_keys[iter]] = tmp"
   ]
  },
  {
   "cell_type": "code",
   "execution_count": 7,
   "id": "f6dd335f",
   "metadata": {},
   "outputs": [
    {
     "data": {
      "text/plain": [
       "[None, None, None, None, None, None, None, None, None, None]"
      ]
     },
     "execution_count": 7,
     "metadata": {},
     "output_type": "execute_result"
    }
   ],
   "source": [
    "# Measurement applied to all circuits\n",
    "grover2 = list(grover2_dict.values())\n",
    "grover3 = list(grover3_dict.values())\n",
    "grover4 = list(grover4_dict.values())\n",
    "grover5 = list(grover5_dict.values())\n",
    "\n",
    "[grover2[i].measure_all() for i in range(len(grover2))]\n",
    "[grover3[i].measure_all() for i in range(len(grover3))]\n",
    "[grover4[i].measure_all() for i in range(len(grover4))]\n",
    "[grover5[i].measure_all() for i in range(len(grover5))]"
   ]
  },
  {
   "cell_type": "markdown",
   "id": "55fb0f14",
   "metadata": {},
   "source": [
    "## Backend Preparation"
   ]
  },
  {
   "cell_type": "code",
   "execution_count": 8,
   "id": "dbb300be",
   "metadata": {},
   "outputs": [],
   "source": [
    "# Simulator and IBMQ_Quito Backends\n",
    "provider = IBMQ.load_account()\n",
    "provider = IBMQ.get_provider(\"ibm-q\")\n",
    "\n",
    "aer_sim = Aer.get_backend(\"aer_simulator\")\n",
    "quito = provider.get_backend(\"ibmq_quito\")\n",
    "shots = 1000"
   ]
  },
  {
   "cell_type": "markdown",
   "id": "81723bcc",
   "metadata": {},
   "source": [
    "### Aer Simulator Results"
   ]
  },
  {
   "cell_type": "code",
   "execution_count": 9,
   "id": "7ab684c5",
   "metadata": {},
   "outputs": [],
   "source": [
    "# Transpile, execute two-qubit search\n",
    "all_grover2 = transpile(grover2, aer_sim)\n",
    "all_grover2_jobs = execute(all_grover2, aer_sim, shots=shots)\n",
    "all_grover2_result = all_grover2_jobs.result()\n",
    "all_grover2_counts = all_grover2_result.get_counts()"
   ]
  },
  {
   "cell_type": "code",
   "execution_count": 10,
   "id": "7ab684c5",
   "metadata": {},
   "outputs": [],
   "source": [
    "# Transpile, execute three-qubit search\n",
    "all_grover3 = transpile(grover3, aer_sim)\n",
    "all_grover3_jobs = execute(all_grover3, aer_sim, shots=shots)\n",
    "all_grover3_result = all_grover3_jobs.result()\n",
    "all_grover3_counts = all_grover3_result.get_counts()"
   ]
  },
  {
   "cell_type": "code",
   "execution_count": 11,
   "id": "7ab684c5",
   "metadata": {},
   "outputs": [],
   "source": [
    "# Transpile, execute four qubit search\n",
    "all_grover4 = transpile(grover4, aer_sim)\n",
    "all_grover4_jobs = execute(all_grover4, aer_sim, shots=shots)\n",
    "all_grover4_result = all_grover4_jobs.result()\n",
    "all_grover4_counts = all_grover4_result.get_counts()"
   ]
  },
  {
   "cell_type": "code",
   "execution_count": 12,
   "id": "7ab684c5",
   "metadata": {},
   "outputs": [],
   "source": [
    "# Transpile, execute five-qubit search\n",
    "all_grover5 = transpile(grover5, aer_sim)\n",
    "all_grover5_jobs = execute(all_grover5, aer_sim, shots=shots)\n",
    "all_grover5_result = all_grover5_jobs.result()\n",
    "all_grover5_counts = all_grover5_result.get_counts()"
   ]
  },
  {
   "cell_type": "markdown",
   "id": "1d2158ae",
   "metadata": {},
   "source": [
    "### Data Preparation for Plots"
   ]
  },
  {
   "cell_type": "code",
   "execution_count": 13,
   "id": "698a49cf",
   "metadata": {},
   "outputs": [
    {
     "name": "stderr",
     "output_type": "stream",
     "text": [
      "/var/folders/l7/tvf40cgn2b91dp9tbv9n_nzh0000gn/T/ipykernel_6822/1359404128.py:13: RuntimeWarning: divide by zero encountered in divide\n",
      "  grover2_ratios = np.true_divide(grover2_solution_ray, grover2_nonsolution_ray)\n"
     ]
    }
   ],
   "source": [
    "# 2 Qubits\n",
    "# Get counts and probability of solution\n",
    "grover2_solution_counts = [np.array(all_grover2_counts[i]['01']) for i in range(len(all_grover2_counts))]\n",
    "grover2_solution_ave_probs = [grover2_solution_counts[i].mean() / shots for i in range(len(grover2_solution_counts))]\n",
    "\n",
    "# Do same for non-solutions\n",
    "grover2_nonsolution_counts = [shots - grover2_solution_counts[i].sum() for i in range(len(grover2_solution_counts))]\n",
    "grover2_nonsolution_ave_probs = [grover2_nonsolution_counts[i] / ((2**2 - 1) * shots) for i in range(len(grover2_nonsolution_counts))]\n",
    "\n",
    "# Convert lists of solution / non-solution probabilities to numpy arrays and calculate the ratio\n",
    "grover2_solution_ray = np.array(grover2_solution_ave_probs)\n",
    "grover2_nonsolution_ray = np.array(grover2_nonsolution_ave_probs)\n",
    "grover2_ratios = np.true_divide(grover2_solution_ray, grover2_nonsolution_ray)"
   ]
  },
  {
   "cell_type": "code",
   "execution_count": 14,
   "id": "698a49cf",
   "metadata": {},
   "outputs": [
    {
     "name": "stderr",
     "output_type": "stream",
     "text": [
      "/var/folders/l7/tvf40cgn2b91dp9tbv9n_nzh0000gn/T/ipykernel_6822/1522211359.py:13: RuntimeWarning: divide by zero encountered in divide\n",
      "  grover3_ratios = np.true_divide(grover3_solution_ray, grover3_nonsolution_ray)\n"
     ]
    }
   ],
   "source": [
    "# 3 Qubits\n",
    "# Get counts and probability of solution\n",
    "grover3_solution_counts = [np.array(all_grover3_counts[i]['010']) for i in range(len(all_grover3_counts))]\n",
    "grover3_solution_ave_probs = [grover3_solution_counts[i].mean() / shots for i in range(len(grover3_solution_counts))]\n",
    "\n",
    "# Do same for non-solutions\n",
    "grover3_nonsolution_counts = [shots - grover3_solution_counts[i].sum() for i in range(len(grover3_solution_counts))]\n",
    "grover3_nonsolution_ave_probs = [grover3_nonsolution_counts[i] / ((2**3 - 1) * shots) for i in range(len(grover3_nonsolution_counts))]\n",
    "\n",
    "# Convert lists of solution / non-solution probabilities to numpy arrays and calculate the ratio\n",
    "grover3_solution_ray = np.array(grover3_solution_ave_probs)\n",
    "grover3_nonsolution_ray = np.array(grover3_nonsolution_ave_probs)\n",
    "grover3_ratios = np.true_divide(grover3_solution_ray, grover3_nonsolution_ray)"
   ]
  },
  {
   "cell_type": "code",
   "execution_count": 15,
   "id": "698a49cf",
   "metadata": {},
   "outputs": [],
   "source": [
    "# 4 Qubits\n",
    "# Get counts and probability of solution\n",
    "grover4_solution_counts = [np.array(all_grover4_counts[i]['0010']) for i in range(len(all_grover4_counts))]\n",
    "grover4_solution_ave_probs = [grover4_solution_counts[i].mean() / shots for i in range(len(grover4_solution_counts))]\n",
    "\n",
    "# Do same for non-solutions\n",
    "grover4_nonsolution_counts = [shots - grover4_solution_counts[i].sum() for i in range(len(grover4_solution_counts))]\n",
    "grover4_nonsolution_ave_probs = [grover4_nonsolution_counts[i] / ((2**4 - 1) * shots) for i in range(len(grover4_nonsolution_counts))]\n",
    "\n",
    "# Convert lists of solution / non-solution probabilities to numpy arrays and calculate the ratio\n",
    "grover4_solution_ray = np.array(grover4_solution_ave_probs)\n",
    "grover4_nonsolution_ray = np.array(grover4_nonsolution_ave_probs)\n",
    "grover4_ratios = np.true_divide(grover4_solution_ray, grover4_nonsolution_ray)"
   ]
  },
  {
   "cell_type": "code",
   "execution_count": 16,
   "id": "698a49cf",
   "metadata": {},
   "outputs": [
    {
     "name": "stderr",
     "output_type": "stream",
     "text": [
      "/var/folders/l7/tvf40cgn2b91dp9tbv9n_nzh0000gn/T/ipykernel_6822/1909225185.py:13: RuntimeWarning: divide by zero encountered in divide\n",
      "  grover5_ratios = np.true_divide(grover5_solution_ray, grover5_nonsolution_ray)\n"
     ]
    }
   ],
   "source": [
    "# 5 Qubits\n",
    "# Get counts and probability of solution\n",
    "grover5_solution_counts = [np.array(all_grover5_counts[i]['11100']) for i in range(len(all_grover5_counts))]\n",
    "grover5_solution_ave_probs = [grover5_solution_counts[i].mean() / shots for i in range(len(grover5_solution_counts))]\n",
    "\n",
    "# Do same for non-solutions\n",
    "grover5_nonsolution_counts = [shots - grover5_solution_counts[i].sum() for i in range(len(grover5_solution_counts))]\n",
    "grover5_nonsolution_ave_probs = [grover5_nonsolution_counts[i] / ((2**5 - 1) * shots) for i in range(len(grover5_nonsolution_counts))]\n",
    "\n",
    "# Convert lists of solution / non-solution probabilities to numpy arrays and calculate the ratio\n",
    "grover5_solution_ray = np.array(grover5_solution_ave_probs)\n",
    "grover5_nonsolution_ray = np.array(grover5_nonsolution_ave_probs)\n",
    "grover5_ratios = np.true_divide(grover5_solution_ray, grover5_nonsolution_ray)"
   ]
  },
  {
   "cell_type": "markdown",
   "id": "09128c61",
   "metadata": {},
   "source": [
    "## Plots"
   ]
  },
  {
   "cell_type": "markdown",
   "id": "68a6c9f5",
   "metadata": {},
   "source": [
    "Here we define and grab the annotation locations for \"infinty', which comes out blank in matplotlib graphs."
   ]
  },
  {
   "cell_type": "code",
   "execution_count": 17,
   "id": "df65c405",
   "metadata": {},
   "outputs": [],
   "source": [
    "def infty_annotate(values):\n",
    "    \n",
    "    infty_locs = []\n",
    "    \n",
    "    for value in range(len(values)):\n",
    "        if values[value] == np.inf:\n",
    "            infty_locs.append(value)\n",
    "\n",
    "    new_array = np.delete(values, infty_locs)\n",
    "    new_exponent = (np.log10(new_array.max()) + np.log10(new_array.min()))/2\n",
    "    height = 10**new_exponent\n",
    "\n",
    "    return (np.array(infty_locs)+1, height)"
   ]
  },
  {
   "cell_type": "code",
   "execution_count": 18,
   "id": "c4360ad2",
   "metadata": {},
   "outputs": [],
   "source": [
    "(g2_xinf, g2_yinf) = infty_annotate(grover2_ratios)\n",
    "(g3_xinf, g3_yinf) = infty_annotate(grover3_ratios)\n",
    "(g4_xinf, g4_yinf) = infty_annotate(grover4_ratios)\n",
    "(g5_xinf, g5_yinf) = infty_annotate(grover5_ratios)"
   ]
  },
  {
   "cell_type": "code",
   "execution_count": 19,
   "id": "7af7f65f",
   "metadata": {},
   "outputs": [
    {
     "name": "stderr",
     "output_type": "stream",
     "text": [
      "/var/folders/l7/tvf40cgn2b91dp9tbv9n_nzh0000gn/T/ipykernel_6822/4239237489.py:57: UserWarning: Matplotlib is currently using module://matplotlib_inline.backend_inline, which is a non-GUI backend, so cannot show the figure.\n",
      "  figure.show()\n"
     ]
    },
    {
     "data": {
      "image/png": "[encoded data removed]",
      "text/plain": [
       "<Figure size 800x800 with 4 Axes>"
      ]
     },
     "metadata": {},
     "output_type": "display_data"
    }
   ],
   "source": [
    "# Graph ratios vs. number of iterations using PyPlot\n",
    "\n",
    "# Define x range\n",
    "xrange = np.arange(1,11,1)\n",
    "\n",
    "figure = plt.figure(1, figsize=[8,8])\n",
    "figure.suptitle(\"2- to 5- Qubit Grover Search \\n Probability Ratio of Solution-to-Nonsolution \", fontsize = \"large\")\n",
    "figure.supxlabel(\"G Iterations\")\n",
    "figure.supylabel(\"$ \\\\dfrac{\\\\langle\\\\ P\\\\:(solution)\\\\ \\\\rangle}{\\\\langle\\\\ P\\\\:(nonsolution)\\\\ \\\\rangle} $\")\n",
    "gd = figure.add_gridspec(4, hspace=0)\n",
    "\n",
    "two_qub_probs = figure.add_subplot(gd[0,0])\n",
    "two_qub_probs.stem(xrange, grover2_ratios)\n",
    "two_qub_probs.set_yscale(\"log\")\n",
    "two_qub_probs.set_xticks(xrange)\n",
    "two_qub_probs.set_xticklabels(xrange)\n",
    "two_qub_probs.set_title(\"    n=2\", fontsize=10, loc='left', y=1, pad=-14)\n",
    "two_qub_probs.label_outer()\n",
    "\n",
    "three_qub_probs = figure.add_subplot(gd[1,0])\n",
    "three_qub_probs.stem(xrange, grover3_ratios)\n",
    "three_qub_probs.set_yscale(\"log\")\n",
    "three_qub_probs.set_xticks(xrange)\n",
    "three_qub_probs.set_xticklabels(xrange)\n",
    "three_qub_probs.set_title(\"    n=3\", fontsize=10, loc='left', y=1, pad=-14)\n",
    "# three_qub_probs.sharex(two_qub_probs)\n",
    "three_qub_probs.label_outer()\n",
    "\n",
    "four_qub_probs = figure.add_subplot(gd[2,0])\n",
    "four_qub_probs.stem(xrange, grover4_ratios)\n",
    "four_qub_probs.set_yscale(\"log\")\n",
    "four_qub_probs.set_xticks(xrange)\n",
    "four_qub_probs.set_xticklabels(xrange)\n",
    "four_qub_probs.set_title(\"    n=4\", fontsize=10, loc='left', y=1, pad=-14)\n",
    "# four_qub_probs.sharex(three_qub_probs)\n",
    "four_qub_probs.label_outer()\n",
    "\n",
    "five_qub_probs = figure.add_subplot(gd[3,0])\n",
    "five_qub_probs.stem(xrange, grover5_ratios)\n",
    "five_qub_probs.set_yscale(\"log\")\n",
    "five_qub_probs.set_xticks(xrange)\n",
    "five_qub_probs.set_xticklabels(xrange)\n",
    "five_qub_probs.set_title(\"    n=5\", fontsize=10, loc='left', y=1, pad=-14)\n",
    "# five_qub_probs.sharex(four_qub_probs)\n",
    "five_qub_probs.label_outer()\n",
    "\n",
    "# Annotations\n",
    "for xloc in g2_xinf:\n",
    "    two_qub_probs.annotate(text=\"$\\\\infty$\", xy=(xloc-0.1,g2_yinf), xytext=(xloc-0.1,g2_yinf), fontsize=14)\n",
    "for xloc in g3_xinf:\n",
    "    three_qub_probs.annotate(text=\"$\\\\infty$\", xy=(xloc-0.1,g3_yinf), xytext=(xloc-0.1,g3_yinf), fontsize=14)\n",
    "for xloc in g4_xinf:\n",
    "    four_qub_probs.annotate(text=\"$\\\\infty$\", xy=(xloc-0.1,g4_yinf), xytext=(xloc-0.1,g4_yinf), fontsize=14)\n",
    "for xloc in g5_xinf:\n",
    "    five_qub_probs.annotate(text=\"$\\\\infty$\", xy=(xloc-0.1,g5_yinf), xytext=(xloc-0.1,g5_yinf), fontsize=14)\n",
    "\n",
    "figure.show()\n"
   ]
  },
  {
   "cell_type": "markdown",
   "id": "ab68fc55",
   "metadata": {},
   "source": [
    "### IBM Quito Results"
   ]
  },
  {
   "cell_type": "code",
   "execution_count": 20,
   "id": "6dc83090",
   "metadata": {},
   "outputs": [],
   "source": [
    "# Getting IBM Quito Jobs and Counts\n",
    "\n",
    "quito_grover2_jobs = quito.retrieve_job('6388348f68d7fab2c7451713')\n",
    "quito_grover3_jobs = quito.retrieve_job('63883493c670862fef90b65a')\n",
    "quito_grover4_jobs = quito.retrieve_job('63883498c505e152c1656b32')\n",
    "quito_grover5_jobs = quito.retrieve_job('6388349f68d7fa225f451714')\n",
    "\n",
    "quito_grover2_counts = quito_grover2_jobs.result().get_counts()\n",
    "quito_grover3_counts = quito_grover3_jobs.result().get_counts()\n",
    "quito_grover4_counts = quito_grover4_jobs.result().get_counts()\n",
    "quito_grover5_counts = quito_grover5_jobs.result().get_counts()"
   ]
  },
  {
   "cell_type": "code",
   "execution_count": 21,
   "id": "698a49cf",
   "metadata": {},
   "outputs": [],
   "source": [
    "# 2 Qubits\n",
    "# Get counts and probability of solution\n",
    "grover2_solution_counts = [np.array(quito_grover2_counts[i]['01']) for i in range(len(quito_grover2_counts))]\n",
    "grover2_solution_ave_probs = [grover2_solution_counts[i].mean() / shots for i in range(len(grover2_solution_counts))]\n",
    "\n",
    "# Do same for non-solutions\n",
    "grover2_nonsolution_counts = [shots - grover2_solution_counts[i].sum() for i in range(len(grover2_solution_counts))]\n",
    "grover2_nonsolution_ave_probs = [grover2_nonsolution_counts[i] / ((2**2 - 1) * shots) for i in range(len(grover2_nonsolution_counts))]\n",
    "\n",
    "# Convert lists of solution / non-solution probabilities to numpy arrays and calculate the ratio\n",
    "grover2_solution_ray = np.array(grover2_solution_ave_probs)\n",
    "grover2_nonsolution_ray = np.array(grover2_nonsolution_ave_probs)\n",
    "grover2_ratios = np.true_divide(grover2_solution_ray, grover2_nonsolution_ray)"
   ]
  },
  {
   "cell_type": "code",
   "execution_count": 22,
   "id": "698a49cf",
   "metadata": {},
   "outputs": [],
   "source": [
    "# 3 Qubits\n",
    "# Get counts and probability of solution\n",
    "grover3_solution_counts = [np.array(quito_grover3_counts[i]['010']) for i in range(len(quito_grover3_counts))]\n",
    "grover3_solution_ave_probs = [grover3_solution_counts[i].mean() / shots for i in range(len(grover3_solution_counts))]\n",
    "\n",
    "# Do same for non-solutions\n",
    "grover3_nonsolution_counts = [shots - grover3_solution_counts[i].sum() for i in range(len(grover3_solution_counts))]\n",
    "grover3_nonsolution_ave_probs = [grover3_nonsolution_counts[i] / ((2**3 - 1) * shots) for i in range(len(grover3_nonsolution_counts))]\n",
    "\n",
    "# Convert lists of solution / non-solution probabilities to numpy arrays and calculate the ratio\n",
    "grover3_solution_ray = np.array(grover3_solution_ave_probs)\n",
    "grover3_nonsolution_ray = np.array(grover3_nonsolution_ave_probs)\n",
    "grover3_ratios = np.true_divide(grover3_solution_ray, grover3_nonsolution_ray)"
   ]
  },
  {
   "cell_type": "code",
   "execution_count": 23,
   "id": "698a49cf",
   "metadata": {},
   "outputs": [],
   "source": [
    "# 4 Qubits\n",
    "# Get counts and probability of solution\n",
    "grover4_solution_counts = [np.array(quito_grover4_counts[i]['0010']) for i in range(len(quito_grover4_counts))]\n",
    "grover4_solution_ave_probs = [grover4_solution_counts[i].mean() / shots for i in range(len(grover4_solution_counts))]\n",
    "\n",
    "# Do same for non-solutions\n",
    "grover4_nonsolution_counts = [shots - grover4_solution_counts[i].sum() for i in range(len(grover4_solution_counts))]\n",
    "grover4_nonsolution_ave_probs = [grover4_nonsolution_counts[i] / ((2**4 - 1) * shots) for i in range(len(grover4_nonsolution_counts))]\n",
    "\n",
    "# Convert lists of solution / non-solution probabilities to numpy arrays and calculate the ratio\n",
    "grover4_solution_ray = np.array(grover4_solution_ave_probs)\n",
    "grover4_nonsolution_ray = np.array(grover4_nonsolution_ave_probs)\n",
    "grover4_ratios = np.true_divide(grover4_solution_ray, grover4_nonsolution_ray)"
   ]
  },
  {
   "cell_type": "code",
   "execution_count": 24,
   "id": "698a49cf",
   "metadata": {},
   "outputs": [],
   "source": [
    "# 5 Qubits\n",
    "# Get counts and probability of solution\n",
    "grover5_solution_counts = [np.array(quito_grover5_counts[i]['11100']) for i in range(len(quito_grover5_counts))]\n",
    "grover5_solution_ave_probs = [grover5_solution_counts[i].mean() / shots for i in range(len(grover5_solution_counts))]\n",
    "\n",
    "# Do same for non-solutions\n",
    "grover5_nonsolution_counts = [shots - grover5_solution_counts[i].sum() for i in range(len(grover5_solution_counts))]\n",
    "grover5_nonsolution_ave_probs = [grover5_nonsolution_counts[i] / ((2**5 - 1) * shots) for i in range(len(grover5_nonsolution_counts))]\n",
    "\n",
    "# Convert lists of solution / non-solution probabilities to numpy arrays and calculate the ratio\n",
    "grover5_solution_ray = np.array(grover5_solution_ave_probs)\n",
    "grover5_nonsolution_ray = np.array(grover5_nonsolution_ave_probs)\n",
    "grover5_ratios = np.true_divide(grover5_solution_ray, grover5_nonsolution_ray)"
   ]
  },
  {
   "cell_type": "code",
   "execution_count": 31,
   "id": "7af7f65f",
   "metadata": {},
   "outputs": [
    {
     "name": "stderr",
     "output_type": "stream",
     "text": [
      "/var/folders/l7/tvf40cgn2b91dp9tbv9n_nzh0000gn/T/ipykernel_6822/1001373823.py:48: UserWarning: Matplotlib is currently using module://matplotlib_inline.backend_inline, which is a non-GUI backend, so cannot show the figure.\n",
      "  figure.show()\n"
     ]
    },
    {
     "data": {
      "image/png": "[encoded data removed]",
      "text/plain": [
       "<Figure size 800x800 with 4 Axes>"
      ]
     },
     "metadata": {},
     "output_type": "display_data"
    }
   ],
   "source": [
    "# Graph ratios vs. number of iterations using PyPlot\n",
    "\n",
    "# Define x range\n",
    "xrange = np.arange(1,11,1)\n",
    "\n",
    "figure = plt.figure(1, figsize=[8,8])\n",
    "figure.suptitle(\"2- to 5- Qubit Grover Search (IBM Quito) \\n Probability Ratio of Solution-to-Nonsolution \", fontsize = \"large\")\n",
    "figure.supxlabel(\"G Iterations\")\n",
    "figure.supylabel(\"$ \\\\dfrac{\\\\langle\\\\ P\\\\:(solution)\\\\ \\\\rangle}{\\\\langle\\\\ P\\\\:(nonsolution)\\\\ \\\\rangle} $\",\n",
    "                    ha=\"right\")\n",
    "gd = figure.add_gridspec(4, hspace=0)\n",
    "\n",
    "two_qub_probs = figure.add_subplot(gd[0,0])\n",
    "two_qub_probs.stem(xrange, grover2_ratios, linefmt=\"r\")\n",
    "two_qub_probs.set_yscale(\"log\")\n",
    "two_qub_probs.set_xticks(xrange)\n",
    "two_qub_probs.set_xticklabels(xrange)\n",
    "two_qub_probs.set_title(\"n=2    \", fontsize=10, loc='right', y=1, pad=-14)\n",
    "two_qub_probs.label_outer()\n",
    "\n",
    "three_qub_probs = figure.add_subplot(gd[1,0])\n",
    "three_qub_probs.stem(xrange, grover3_ratios, linefmt=\"r\")\n",
    "three_qub_probs.set_yscale(\"log\")\n",
    "three_qub_probs.set_xticks(xrange)\n",
    "three_qub_probs.set_xticklabels(xrange)\n",
    "three_qub_probs.set_title(\"n=3    \", fontsize=10, loc='right', y=1, pad=-14)\n",
    "# three_qub_probs.sharex(two_qub_probs)\n",
    "three_qub_probs.label_outer()\n",
    "\n",
    "four_qub_probs = figure.add_subplot(gd[2,0])\n",
    "four_qub_probs.stem(xrange, grover4_ratios, linefmt=\"r\")\n",
    "four_qub_probs.set_yscale(\"log\")\n",
    "four_qub_probs.set_xticks(xrange)\n",
    "four_qub_probs.set_xticklabels(xrange)\n",
    "four_qub_probs.set_title(\"n=4    \", fontsize=10, loc='right', y=1, pad=-14)\n",
    "# four_qub_probs.sharex(three_qub_probs)\n",
    "four_qub_probs.label_outer()\n",
    "\n",
    "five_qub_probs = figure.add_subplot(gd[3,0])\n",
    "five_qub_probs.stem(xrange, grover5_ratios, linefmt=\"r\")\n",
    "five_qub_probs.set_yscale(\"log\")\n",
    "five_qub_probs.set_xticks(xrange)\n",
    "five_qub_probs.set_xticklabels(xrange)\n",
    "five_qub_probs.set_title(\"n=5    \", fontsize=10, loc='right', y=1, pad=-14)\n",
    "# five_qub_probs.sharex(four_qub_probs)\n",
    "five_qub_probs.label_outer()\n",
    "\n",
    "figure.show()\n"
   ]
  }
 ],
 "metadata": {
  "kernelspec": {
   "display_name": "Python 3.10.7 64-bit",
   "language": "python",
   "name": "python3"
  },
  "language_info": {
   "codemirror_mode": {
    "name": "ipython",
    "version": 3
   },
   "file_extension": ".py",
   "mimetype": "text/x-python",
   "name": "python",
   "nbconvert_exporter": "python",
   "pygments_lexer": "ipython3",
   "version": "3.10.7"
  },
  "vscode": {
   "interpreter": {
    "hash": "aee8b7b246df8f9039afb4144a1f6fd8d2ca17a180786b69acc140d282b71a49"
   }
  }
 },
 "nbformat": 4,
 "nbformat_minor": 5
}
